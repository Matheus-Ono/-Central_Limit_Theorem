{
  "nbformat": 4,
  "nbformat_minor": 0,
  "metadata": {
    "colab": {
      "provenance": []
    },
    "kernelspec": {
      "name": "python3",
      "display_name": "Python 3"
    },
    "language_info": {
      "name": "python"
    }
  },
  "cells": [
    {
      "cell_type": "code",
      "execution_count": null,
      "metadata": {
        "id": "yeRDnBcgyf5_"
      },
      "outputs": [],
      "source": [
        "import pandas as pd\n",
        "from scipy.stats import norm\n",
        "import random\n",
        "import seaborn as sns\n",
        "import matplotlib.pyplot as plt\n",
        "from scipy.stats import norm\n",
        "from scipy import stats"
      ]
    },
    {
      "cell_type": "code",
      "source": [
        "# Recebendo os dados:\n",
        "from google_drive_downloader import GoogleDriveDownloader as gdd\n",
        "\n",
        "# Criando uma variável com o id do Arquivo no Google Drive\n",
        "data_google_id = '1mNmg2mCoht-P8UNuRMYpcdCwfe5epweB'\n",
        "\n",
        "## Fazendo o download do arquivo no Google Drive\n",
        "gdd.download_file_from_google_drive(file_id=data_google_id, # file_id deve receber o id do seu arquivo no Google Drive\n",
        "                                    dest_path = './dados_google_drive.csv', # Faz o download dos dados e salva o mesmo num arquivo nomeado dados.csv\n",
        "                                    showsize = True)\n",
        "# Carregando o arquivo numa nova variavel:\n",
        "dados = pd.read_csv(\"dados_google_drive.csv\", sep = ',')"
      ],
      "metadata": {
        "id": "OGsntYyY9vxs",
        "colab": {
          "base_uri": "https://localhost:8080/"
        },
        "outputId": "145f706a-6c02-4854-fca4-0e1767490e20"
      },
      "execution_count": null,
      "outputs": [
        {
          "output_type": "stream",
          "name": "stdout",
          "text": [
            "Downloading 1mNmg2mCoht-P8UNuRMYpcdCwfe5epweB into ./dados_google_drive.csv... \n",
            "0.0 B Done.\n"
          ]
        }
      ]
    },
    {
      "cell_type": "markdown",
      "source": [
        "# Teorema do Limite Central"
      ],
      "metadata": {
        "id": "poGaWAs62Ckj"
      }
    },
    {
      "cell_type": "markdown",
      "source": [
        "Vamos verificar o teorema do limite central usando Python. Iremos criar uma lista para armazenar 10000 médias de números aleatórios gerados num intervalo de 1 até 20 usando o `random.randint(1,20)` do Python."
      ],
      "metadata": {
        "id": "4NXqJHR_4U7o"
      }
    },
    {
      "cell_type": "code",
      "source": [
        "lista_medias = []\n",
        "for i in range(0, 10000, 1):\n",
        "  soma = 0\n",
        "  for j in range(0, 100, 1):\n",
        "    soma = soma + random.randint(0,21)\n",
        "  media = soma/100\n",
        "  lista_medias.append(media)\n",
        "len(lista_medias)"
      ],
      "metadata": {
        "id": "AC0xQPbd2CIC",
        "colab": {
          "base_uri": "https://localhost:8080/"
        },
        "outputId": "ff328cec-8d34-4da2-e84a-81d093e778c5"
      },
      "execution_count": null,
      "outputs": [
        {
          "output_type": "execute_result",
          "data": {
            "text/plain": [
              "10000"
            ]
          },
          "metadata": {},
          "execution_count": 3
        }
      ]
    },
    {
      "cell_type": "code",
      "source": [
        "sns.histplot(lista_medias, bins = 10, kde=True)"
      ],
      "metadata": {
        "id": "Ae6773ieFHW3",
        "colab": {
          "base_uri": "https://localhost:8080/",
          "height": 447
        },
        "outputId": "e5bfac0d-38db-4446-fdb0-2cba37dd18dc"
      },
      "execution_count": null,
      "outputs": [
        {
          "output_type": "execute_result",
          "data": {
            "text/plain": [
              "<Axes: ylabel='Count'>"
            ]
          },
          "metadata": {},
          "execution_count": 4
        },
        {
          "output_type": "display_data",
          "data": {
            "text/plain": [
              "<Figure size 640x480 with 1 Axes>"
            ],
            "image/png": "[encoded data removed]"
          },
          "metadata": {}
        }
      ]
    },
    {
      "cell_type": "code",
      "source": [],
      "metadata": {
        "id": "-z7AgsaO3fca"
      },
      "execution_count": null,
      "outputs": []
    },
    {
      "cell_type": "code",
      "source": [],
      "metadata": {
        "id": "OJmaRVuz8OhB"
      },
      "execution_count": null,
      "outputs": []
    },
    {
      "cell_type": "markdown",
      "source": [
        "Como podemos observar a distribuição das 10000 médias segue uma **distribuição normal!**"
      ],
      "metadata": {
        "id": "dW1nPpnO6wN0"
      }
    },
    {
      "cell_type": "markdown",
      "source": [
        "# Teste de hipóteses"
      ],
      "metadata": {
        "id": "DQIBaIi4A1lJ"
      }
    },
    {
      "cell_type": "markdown",
      "source": [
        "## Exemplo 1)"
      ],
      "metadata": {
        "id": "pxA1sN_XCVrS"
      }
    },
    {
      "cell_type": "markdown",
      "source": [
        "Vamos estudar uma seguinte Hipotese nula:\n",
        "\n",
        "$H_{0}$: Em média o salario dos desenvolvedores nos EUA é de $80000,00 por ano"
      ],
      "metadata": {
        "id": "9WzZrQ4EBEoy"
      }
    },
    {
      "cell_type": "markdown",
      "source": [
        "1. Definir o tamanho da sua **amostra**(a partir do conjunto de dados)\n",
        "2. Coletar os dados (Já pegamos um conjunto de dados pronto para isso)"
      ],
      "metadata": {
        "id": "O6UW81qRAqxD"
      }
    },
    {
      "cell_type": "code",
      "source": [
        "dados.head()"
      ],
      "metadata": {
        "id": "noqgsGPV_MPZ",
        "colab": {
          "base_uri": "https://localhost:8080/",
          "height": 206
        },
        "outputId": "c57231b6-c1f7-4d49-9a79-5b4dec4f6576"
      },
      "execution_count": null,
      "outputs": [
        {
          "output_type": "execute_result",
          "data": {
            "text/plain": [
              "   YearsExperience   Age  Salary\n",
              "0              1.1  21.0   39343\n",
              "1              1.3  21.5   46205\n",
              "2              1.5  21.7   37731\n",
              "3              2.0  22.0   43525\n",
              "4              2.2  22.2   39891"
            ],
            "text/html": [
              "\n",
              "  <div id=\"df-492afaf4-c717-4a5e-a802-29ce3f5b9e03\">\n",
              "    <div class=\"colab-df-container\">\n",
              "      <div>\n",
              "<style scoped>\n",
              "    .dataframe tbody tr th:only-of-type {\n",
              "        vertical-align: middle;\n",
              "    }\n",
              "\n",
              "    .dataframe tbody tr th {\n",
              "        vertical-align: top;\n",
              "    }\n",
              "\n",
              "    .dataframe thead th {\n",
              "        text-align: right;\n",
              "    }\n",
              "</style>\n",
              "<table border=\"1\" class=\"dataframe\">\n",
              "  <thead>\n",
              "    <tr style=\"text-align: right;\">\n",
              "      <th></th>\n",
              "      <th>YearsExperience</th>\n",
              "      <th>Age</th>\n",
              "      <th>Salary</th>\n",
              "    </tr>\n",
              "  </thead>\n",
              "  <tbody>\n",
              "    <tr>\n",
              "      <th>0</th>\n",
              "      <td>1.1</td>\n",
              "      <td>21.0</td>\n",
              "      <td>39343</td>\n",
              "    </tr>\n",
              "    <tr>\n",
              "      <th>1</th>\n",
              "      <td>1.3</td>\n",
              "      <td>21.5</td>\n",
              "      <td>46205</td>\n",
              "    </tr>\n",
              "    <tr>\n",
              "      <th>2</th>\n",
              "      <td>1.5</td>\n",
              "      <td>21.7</td>\n",
              "      <td>37731</td>\n",
              "    </tr>\n",
              "    <tr>\n",
              "      <th>3</th>\n",
              "      <td>2.0</td>\n",
              "      <td>22.0</td>\n",
              "      <td>43525</td>\n",
              "    </tr>\n",
              "    <tr>\n",
              "      <th>4</th>\n",
              "      <td>2.2</td>\n",
              "      <td>22.2</td>\n",
              "      <td>39891</td>\n",
              "    </tr>\n",
              "  </tbody>\n",
              "</table>\n",
              "</div>\n",
              "      <button class=\"colab-df-convert\" onclick=\"convertToInteractive('df-492afaf4-c717-4a5e-a802-29ce3f5b9e03')\"\n",
              "              title=\"Convert this dataframe to an interactive table.\"\n",
              "              style=\"display:none;\">\n",
              "        \n",
              "  <svg xmlns=\"http://www.w3.org/2000/svg\" height=\"24px\"viewBox=\"0 0 24 24\"\n",
              "       width=\"24px\">\n",
              "    <path d=\"M0 0h24v24H0V0z\" fill=\"none\"/>\n",
              "    <path d=\"M18.56 5.44l.94 2.06.94-2.06 2.06-.94-2.06-.94-.94-2.06-.94 2.06-2.06.94zm-11 1L8.5 8.5l.94-2.06 2.06-.94-2.06-.94L8.5 2.5l-.94 2.06-2.06.94zm10 10l.94 2.06.94-2.06 2.06-.94-2.06-.94-.94-2.06-.94 2.06-2.06.94z\"/><path d=\"M17.41 7.96l-1.37-1.37c-.4-.4-.92-.59-1.43-.59-.52 0-1.04.2-1.43.59L10.3 9.45l-7.72 7.72c-.78.78-.78 2.05 0 2.83L4 21.41c.39.39.9.59 1.41.59.51 0 1.02-.2 1.41-.59l7.78-7.78 2.81-2.81c.8-.78.8-2.07 0-2.86zM5.41 20L4 18.59l7.72-7.72 1.47 1.35L5.41 20z\"/>\n",
              "  </svg>\n",
              "      </button>\n",
              "      \n",
              "  <style>\n",
              "    .colab-df-container {\n",
              "      display:flex;\n",
              "      flex-wrap:wrap;\n",
              "      gap: 12px;\n",
              "    }\n",
              "\n",
              "    .colab-df-convert {\n",
              "      background-color: #E8F0FE;\n",
              "      border: none;\n",
              "      border-radius: 50%;\n",
              "      cursor: pointer;\n",
              "      display: none;\n",
              "      fill: #1967D2;\n",
              "      height: 32px;\n",
              "      padding: 0 0 0 0;\n",
              "      width: 32px;\n",
              "    }\n",
              "\n",
              "    .colab-df-convert:hover {\n",
              "      background-color: #E2EBFA;\n",
              "      box-shadow: 0px 1px 2px rgba(60, 64, 67, 0.3), 0px 1px 3px 1px rgba(60, 64, 67, 0.15);\n",
              "      fill: #174EA6;\n",
              "    }\n",
              "\n",
              "    [theme=dark] .colab-df-convert {\n",
              "      background-color: #3B4455;\n",
              "      fill: #D2E3FC;\n",
              "    }\n",
              "\n",
              "    [theme=dark] .colab-df-convert:hover {\n",
              "      background-color: #434B5C;\n",
              "      box-shadow: 0px 1px 3px 1px rgba(0, 0, 0, 0.15);\n",
              "      filter: drop-shadow(0px 1px 2px rgba(0, 0, 0, 0.3));\n",
              "      fill: #FFFFFF;\n",
              "    }\n",
              "  </style>\n",
              "\n",
              "      <script>\n",
              "        const buttonEl =\n",
              "          document.querySelector('#df-492afaf4-c717-4a5e-a802-29ce3f5b9e03 button.colab-df-convert');\n",
              "        buttonEl.style.display =\n",
              "          google.colab.kernel.accessAllowed ? 'block' : 'none';\n",
              "\n",
              "        async function convertToInteractive(key) {\n",
              "          const element = document.querySelector('#df-492afaf4-c717-4a5e-a802-29ce3f5b9e03');\n",
              "          const dataTable =\n",
              "            await google.colab.kernel.invokeFunction('convertToInteractive',\n",
              "                                                     [key], {});\n",
              "          if (!dataTable) return;\n",
              "\n",
              "          const docLinkHtml = 'Like what you see? Visit the ' +\n",
              "            '<a target=\"_blank\" href=https://colab.research.google.com/notebooks/data_table.ipynb>data table notebook</a>'\n",
              "            + ' to learn more about interactive tables.';\n",
              "          element.innerHTML = '';\n",
              "          dataTable['output_type'] = 'display_data';\n",
              "          await google.colab.output.renderOutput(dataTable, element);\n",
              "          const docLink = document.createElement('div');\n",
              "          docLink.innerHTML = docLinkHtml;\n",
              "          element.appendChild(docLink);\n",
              "        }\n",
              "      </script>\n",
              "    </div>\n",
              "  </div>\n",
              "  "
            ]
          },
          "metadata": {},
          "execution_count": 5
        }
      ]
    },
    {
      "cell_type": "code",
      "source": [
        "n = dados.shape[0]\n",
        "n"
      ],
      "metadata": {
        "id": "S7SHzDx8A5Vn",
        "colab": {
          "base_uri": "https://localhost:8080/"
        },
        "outputId": "3fb8960f-89e1-4239-d63f-3b608b02599c"
      },
      "execution_count": null,
      "outputs": [
        {
          "output_type": "execute_result",
          "data": {
            "text/plain": [
              "30"
            ]
          },
          "metadata": {},
          "execution_count": 6
        }
      ]
    },
    {
      "cell_type": "markdown",
      "source": [
        "3. Obter a média e o desvio padrão"
      ],
      "metadata": {
        "id": "ER2ZAiu7BTli"
      }
    },
    {
      "cell_type": "code",
      "source": [
        "media = dados['Salary'].mean()\n",
        "desv_pad = dados['Salary'].std()\n",
        "print(media, desv_pad)"
      ],
      "metadata": {
        "id": "_-6eeY0aBDco",
        "colab": {
          "base_uri": "https://localhost:8080/"
        },
        "outputId": "c02eb0ff-0ff0-4c3b-fc2c-3a3b9cae9645"
      },
      "execution_count": null,
      "outputs": [
        {
          "output_type": "stream",
          "name": "stdout",
          "text": [
            "76003.0 27414.4297845823\n"
          ]
        }
      ]
    },
    {
      "cell_type": "markdown",
      "source": [
        "**Reflexão:** Porque não podemos parar por aqui os nossos estudos já que a média obtida é menor do que o valor da hipotese nula $H_{0}$?\n",
        "\n",
        "Não podemos refutar apenas com essa média, pois não estamos trabalhando com dados de toda a população de desenvolvedores, mas sim com uma amostra. O teste de hipóteses irá nos dar a resposta para essa pergunta!"
      ],
      "metadata": {
        "id": "jrsiBOZ9CpiC"
      }
    },
    {
      "cell_type": "markdown",
      "source": [
        "4. Hipotese nula e alternativa:\n",
        "\n",
        "\n",
        "$H_{0}$: Em média o salario dos desenvolvedores nos EUA é de $80000,00 por ano\n",
        "\n",
        "$H_{n}$: Em média o salario dos desenvolvedores nos EUA é menor do que $80000,00"
      ],
      "metadata": {
        "id": "SnfXvxOBBjHC"
      }
    },
    {
      "cell_type": "markdown",
      "source": [
        "5. Definir seu $\\alpha$:"
      ],
      "metadata": {
        "id": "ZhQgAC-zB9cT"
      }
    },
    {
      "cell_type": "code",
      "source": [
        "alpha = 0.05"
      ],
      "metadata": {
        "id": "pyiOd9tuBh7x"
      },
      "execution_count": null,
      "outputs": []
    },
    {
      "cell_type": "markdown",
      "source": [
        "6. Padronizar os seus dados para gerar a estatística de teste:"
      ],
      "metadata": {
        "id": "VUgztDOVCGXC"
      }
    },
    {
      "cell_type": "markdown",
      "source": [
        "No caso da média temos\n",
        "\n",
        "$Z= \\frac{\\bar{X}-\\mu}{\\frac{\\sigma}{\\sqrt{n}}}$\n"
      ],
      "metadata": {
        "id": "e6L6P5A5dAgo"
      }
    },
    {
      "cell_type": "code",
      "source": [
        "z = (media-80000)/((desv_pad)/(n**0.5))\n",
        "z"
      ],
      "metadata": {
        "id": "JNxU-zLICJhp",
        "colab": {
          "base_uri": "https://localhost:8080/"
        },
        "outputId": "a538cb86-5262-4574-a62c-05c1df531ebf"
      },
      "execution_count": null,
      "outputs": [
        {
          "output_type": "execute_result",
          "data": {
            "text/plain": [
              "-0.7985747212511303"
            ]
          },
          "metadata": {},
          "execution_count": 9
        }
      ]
    },
    {
      "cell_type": "markdown",
      "source": [
        "Como temos o valor de z, podemos usar o `norm.cdf()` com média igual a 0 e desvio padrão igual a 1, pois já temos o valor de z para a distribuição normal padrão"
      ],
      "metadata": {
        "id": "iDC78bkYR7H0"
      }
    },
    {
      "cell_type": "code",
      "source": [
        "z = (media-80000)/((desv_pad)/(n**0.5))\n",
        "z\n",
        "vp = norm.cdf(z,0,1)\n",
        "vp\n",
        "if(vp >=alpha):\n",
        "  print(\"Não rejeito a hipotese numa\")\n",
        "else:\n",
        "  print(\"Rejeita a hipotese nula\")"
      ],
      "metadata": {
        "id": "f-YaZ3iyRhOb",
        "colab": {
          "base_uri": "https://localhost:8080/"
        },
        "outputId": "cb05859c-fc52-456a-f87f-b0e9786cdb1e"
      },
      "execution_count": null,
      "outputs": [
        {
          "output_type": "stream",
          "name": "stdout",
          "text": [
            "Não rejeito a hipotese numa\n"
          ]
        }
      ]
    },
    {
      "cell_type": "markdown",
      "source": [
        "7. Comparar com o valor de α\n",
        "8. Emitir o resultado do teste\n"
      ],
      "metadata": {
        "id": "pbhSWwckTDe0"
      }
    },
    {
      "cell_type": "code",
      "source": [
        "if(vp >=alpha):\n",
        "  print(\"Não rejeito a hipotese numa\")\n",
        "else:\n",
        "  print(\"Rejeita a hipotese nula\")"
      ],
      "metadata": {
        "id": "TCaf2wGXTYpb",
        "colab": {
          "base_uri": "https://localhost:8080/"
        },
        "outputId": "8b73f637-7b9f-40ab-eb94-736abaa343be"
      },
      "execution_count": null,
      "outputs": [
        {
          "output_type": "stream",
          "name": "stdout",
          "text": [
            "Não rejeito a hipotese numa\n"
          ]
        }
      ]
    },
    {
      "cell_type": "markdown",
      "source": [
        "**Exercicio**"
      ],
      "metadata": {
        "id": "mgnvlddC7Cfm"
      }
    },
    {
      "cell_type": "markdown",
      "source": [
        "Valor-p significantemente menor do que o alpha. Logo o teste de hipotese nos deu evidencias de que a média salarial de desenvolvedores não é de $100000/ano"
      ],
      "metadata": {
        "id": "34DFlorXY8jQ"
      }
    },
    {
      "cell_type": "markdown",
      "source": [
        "$H_{0}$: Em média o salario dos desenvolvedores nos EUA é de $100000,00 por ano"
      ],
      "metadata": {
        "id": "qJUQHITZmcIn"
      }
    },
    {
      "cell_type": "markdown",
      "source": [
        " Hipotese nula e alternativa:\n",
        "\n",
        "\n",
        "$H_{0}$: Em média o salario dos desenvolvedores nos EUA é de $100000,00 por ano\n",
        "\n",
        "$H_{n}$: Em média o salario dos desenvolvedores nos EUA é menor do que $100000,00"
      ],
      "metadata": {
        "id": "1clK8N5kmmpx"
      }
    },
    {
      "cell_type": "code",
      "source": [
        "n = dados.shape[0]\n",
        "n"
      ],
      "metadata": {
        "colab": {
          "base_uri": "https://localhost:8080/"
        },
        "id": "KH9vdJWvmUkR",
        "outputId": "69a986a2-c55b-416b-c2cf-f8e0299db0e5"
      },
      "execution_count": null,
      "outputs": [
        {
          "output_type": "execute_result",
          "data": {
            "text/plain": [
              "30"
            ]
          },
          "metadata": {},
          "execution_count": 12
        }
      ]
    },
    {
      "cell_type": "code",
      "source": [
        "media = dados['Salary'].mean()\n",
        "desv_pad = dados['Salary'].std()\n",
        "print(media, desv_pad)"
      ],
      "metadata": {
        "colab": {
          "base_uri": "https://localhost:8080/"
        },
        "id": "iEBpsFHLmy-H",
        "outputId": "929e3b4b-2ba2-4591-debf-9dbb0884aa1f"
      },
      "execution_count": null,
      "outputs": [
        {
          "output_type": "stream",
          "name": "stdout",
          "text": [
            "76003.0 27414.4297845823\n"
          ]
        }
      ]
    },
    {
      "cell_type": "code",
      "source": [
        "alpha = 0.05"
      ],
      "metadata": {
        "id": "KKTt80Zhm1pH"
      },
      "execution_count": null,
      "outputs": []
    },
    {
      "cell_type": "code",
      "source": [
        "z1 = (media-100000)/((desv_pad)/(n**0.5))\n",
        "z1"
      ],
      "metadata": {
        "colab": {
          "base_uri": "https://localhost:8080/"
        },
        "id": "Qiu7KAz7m5Zm",
        "outputId": "376b0fe4-1b80-4a79-d1b3-ff65aa80ab5f"
      },
      "execution_count": null,
      "outputs": [
        {
          "output_type": "execute_result",
          "data": {
            "text/plain": [
              "-4.794445230388635"
            ]
          },
          "metadata": {},
          "execution_count": 15
        }
      ]
    },
    {
      "cell_type": "code",
      "source": [
        "vp1 = norm.cdf(z1,0,1)\n",
        "vp1"
      ],
      "metadata": {
        "colab": {
          "base_uri": "https://localhost:8080/"
        },
        "id": "WcvyDRhym-XO",
        "outputId": "44c24cae-5629-43f4-dfeb-29f751e2de99"
      },
      "execution_count": null,
      "outputs": [
        {
          "output_type": "execute_result",
          "data": {
            "text/plain": [
              "8.156281115164255e-07"
            ]
          },
          "metadata": {},
          "execution_count": 16
        }
      ]
    },
    {
      "cell_type": "code",
      "source": [
        "if(vp1>=alpha):\n",
        "  print(\"Não rejeito a hipotese numa\")\n",
        "else:\n",
        "  print(\"Rejeita a hipotese nula\")"
      ],
      "metadata": {
        "colab": {
          "base_uri": "https://localhost:8080/"
        },
        "id": "MMXhoNhFnDc2",
        "outputId": "35981763-fddf-401c-a0a1-1ab99e5feb55"
      },
      "execution_count": null,
      "outputs": [
        {
          "output_type": "stream",
          "name": "stdout",
          "text": [
            "Rejeita a hipotese nula\n"
          ]
        }
      ]
    },
    {
      "cell_type": "markdown",
      "source": [
        "## Exemplo 2)"
      ],
      "metadata": {
        "id": "Fyu_TsYob3ft"
      }
    },
    {
      "cell_type": "markdown",
      "source": [
        "Vamos estudar uma seguinte Hipotese nula:\n",
        "\n",
        "$H_{0}$: Afirma-se que nos EUA é 75% dos desenvolvedores tem a idade abaixo de 30 anos."
      ],
      "metadata": {
        "id": "gebcQdd7b3fv"
      }
    },
    {
      "cell_type": "markdown",
      "source": [
        "Do exemplo anterior:"
      ],
      "metadata": {
        "id": "fQS2OyDbcJDn"
      }
    },
    {
      "cell_type": "markdown",
      "source": [
        "1. Definir o tamanho da sua **amostra**(a partir do conjunto de dados)\n",
        "2. Coletar os dados (Já pegamos um conjunto de dados pronto para isso)\n",
        "3. Obter a média e o desvio padrão"
      ],
      "metadata": {
        "id": "8p3YRYPMb3fv"
      }
    },
    {
      "cell_type": "code",
      "source": [
        "n = dados.shape[0]\n",
        "n"
      ],
      "metadata": {
        "id": "naWp4wrgb3fw",
        "colab": {
          "base_uri": "https://localhost:8080/"
        },
        "outputId": "abcaea0c-82af-4b22-83c0-c0ddeebf023e"
      },
      "execution_count": null,
      "outputs": [
        {
          "output_type": "execute_result",
          "data": {
            "text/plain": [
              "30"
            ]
          },
          "metadata": {},
          "execution_count": 18
        }
      ]
    },
    {
      "cell_type": "markdown",
      "source": [
        "4. Hipotese nula e alternativa:\n",
        "\n",
        "\n",
        "$H_{0}$: Afirma-se que nos EUA 75% dos desenvolvedores tem a idade abaixo de 30 anos.\n",
        "\n",
        "$H_{n}$:  Afirma-se que nos EUA menos de 75% dos desenvolvedores tem a idade abaixo de 30 anos."
      ],
      "metadata": {
        "id": "KBJYfJc0b3fw"
      }
    },
    {
      "cell_type": "markdown",
      "source": [
        "Encontrando a proporção de pessoas nas amostras coletadas"
      ],
      "metadata": {
        "id": "QN0W00hscgUo"
      }
    },
    {
      "cell_type": "code",
      "source": [
        "mask = dados['Age']<30\n",
        "prop = dados[mask].shape[0]/dados.shape[0]\n",
        "prop"
      ],
      "metadata": {
        "id": "ZRk7WuupceFA",
        "colab": {
          "base_uri": "https://localhost:8080/"
        },
        "outputId": "68aeae04-3e58-4540-8f06-e6ad2fc229ef"
      },
      "execution_count": null,
      "outputs": [
        {
          "output_type": "execute_result",
          "data": {
            "text/plain": [
              "0.6666666666666666"
            ]
          },
          "metadata": {},
          "execution_count": 19
        }
      ]
    },
    {
      "cell_type": "markdown",
      "source": [
        "5. Definir seu $\\alpha$:"
      ],
      "metadata": {
        "id": "P5vVDy72c_Y1"
      }
    },
    {
      "cell_type": "code",
      "source": [
        "alpha = 0.05"
      ],
      "metadata": {
        "id": "HJpYKX7Tc_Y2"
      },
      "execution_count": null,
      "outputs": []
    },
    {
      "cell_type": "markdown",
      "source": [
        "6. Padronizar os seus dados para gerar a estatística de teste:"
      ],
      "metadata": {
        "id": "AceWA2s4c_Y2"
      }
    },
    {
      "cell_type": "markdown",
      "source": [
        "No caso da proporção temos:\n",
        "\n",
        "$P=\\frac{\\hat{p}-p_{0}}{\\sqrt{\\frac{p_{0}(1-p_{0})}{n}}}$"
      ],
      "metadata": {
        "id": "VBjKRX9mdztg"
      }
    },
    {
      "cell_type": "code",
      "source": [
        "p = (prop-0.75)/(((0.75*(1-0.75))/(n))**0.5)\n",
        "p"
      ],
      "metadata": {
        "id": "4MPDz2U9c_Y3",
        "colab": {
          "base_uri": "https://localhost:8080/"
        },
        "outputId": "47318005-10cb-4a68-fa25-19b72e873edf"
      },
      "execution_count": null,
      "outputs": [
        {
          "output_type": "execute_result",
          "data": {
            "text/plain": [
              "-1.0540925533894603"
            ]
          },
          "metadata": {},
          "execution_count": 21
        }
      ]
    },
    {
      "cell_type": "code",
      "source": [
        "vp2 = norm.cdf(p,0,1)\n",
        "vp2"
      ],
      "metadata": {
        "id": "sOpMh_9GepyX",
        "colab": {
          "base_uri": "https://localhost:8080/"
        },
        "outputId": "dd49f9e3-a754-4107-de58-6d3a5adf24b9"
      },
      "execution_count": null,
      "outputs": [
        {
          "output_type": "execute_result",
          "data": {
            "text/plain": [
              "0.1459202725718941"
            ]
          },
          "metadata": {},
          "execution_count": 22
        }
      ]
    },
    {
      "cell_type": "markdown",
      "source": [
        "7. Comparar com o valor de α\n",
        "8. Emitir o resultado do teste\n"
      ],
      "metadata": {
        "id": "4_m0whADekWX"
      }
    },
    {
      "cell_type": "code",
      "source": [
        "if(vp2>=alpha):\n",
        "  print(\"Não rejeito a hipotese numa\")\n",
        "else:\n",
        "  print(\"Rejeita a hipotese nula\")"
      ],
      "metadata": {
        "id": "QfXpWmwtekWY",
        "colab": {
          "base_uri": "https://localhost:8080/"
        },
        "outputId": "bade487f-bd27-4723-a6b0-cde30a7330ab"
      },
      "execution_count": null,
      "outputs": [
        {
          "output_type": "stream",
          "name": "stdout",
          "text": [
            "Não rejeito a hipotese numa\n"
          ]
        }
      ]
    },
    {
      "cell_type": "markdown",
      "source": [
        "Novamente rejeitamos a hipotese nula que haviamos proposto com um conjunto de dados e usando a estatística como base."
      ],
      "metadata": {
        "id": "JPkNdwjMekWZ"
      }
    },
    {
      "cell_type": "markdown",
      "source": [
        "# Teste de Shapiro-Wilk"
      ],
      "metadata": {
        "id": "qx76E9IACPFQ"
      }
    },
    {
      "cell_type": "markdown",
      "source": [
        "Vamos verificar o teste de Shapiro-Wilk para o seguinte cenário:\n",
        "\n",
        "$H_{0}$: A coluna de idade está com os dados normalmente distribuídos\n",
        "\n",
        "Primeiro iremos plotar o histograma das idades:"
      ],
      "metadata": {
        "id": "Ha9nPngZCST1"
      }
    },
    {
      "cell_type": "code",
      "source": [
        "sns.histplot(dados['Age'], bins=15\n",
        "             , kde=True)"
      ],
      "metadata": {
        "id": "2E-nlyVHC5aF",
        "colab": {
          "base_uri": "https://localhost:8080/",
          "height": 466
        },
        "outputId": "c2b18ed5-be0f-4c5f-8f8d-7aa67f615082"
      },
      "execution_count": null,
      "outputs": [
        {
          "output_type": "execute_result",
          "data": {
            "text/plain": [
              "<Axes: xlabel='Age', ylabel='Count'>"
            ]
          },
          "metadata": {},
          "execution_count": 24
        },
        {
          "output_type": "display_data",
          "data": {
            "text/plain": [
              "<Figure size 640x480 with 1 Axes>"
            ],
            "image/png": "[encoded data removed]"
          },
          "metadata": {}
        }
      ]
    },
    {
      "cell_type": "markdown",
      "source": [
        "Visualmente temos que esses dados não estão normalmente distribuídos. Entretanto vamos checar isso com o teste de Shapiro-Wilk, lembrando que:\n",
        "\n",
        "*   valor de p<=0,05: Os dados não estão normalmente distribuídos\n",
        "*   valor de p>0,05: Os dados estão normalmente distribuídos.\n",
        "\n"
      ],
      "metadata": {
        "id": "fPw1CC-yDtLN"
      }
    },
    {
      "cell_type": "markdown",
      "source": [
        "Para fazermos isso iremos usar o `stats.shapiro()` para obter o resultado do teste de hipóteses:"
      ],
      "metadata": {
        "id": "ce5zFuv2EC78"
      }
    },
    {
      "cell_type": "code",
      "source": [
        "dados.head()"
      ],
      "metadata": {
        "colab": {
          "base_uri": "https://localhost:8080/",
          "height": 206
        },
        "id": "wnPwOAR_FTl8",
        "outputId": "a80a0bf9-9f1b-4d9c-fcb4-44c31f84474f"
      },
      "execution_count": null,
      "outputs": [
        {
          "output_type": "execute_result",
          "data": {
            "text/plain": [
              "   YearsExperience   Age  Salary\n",
              "0              1.1  21.0   39343\n",
              "1              1.3  21.5   46205\n",
              "2              1.5  21.7   37731\n",
              "3              2.0  22.0   43525\n",
              "4              2.2  22.2   39891"
            ],
            "text/html": [
              "\n",
              "  <div id=\"df-f51a12eb-8fe0-48d2-aac2-19736a5efe95\">\n",
              "    <div class=\"colab-df-container\">\n",
              "      <div>\n",
              "<style scoped>\n",
              "    .dataframe tbody tr th:only-of-type {\n",
              "        vertical-align: middle;\n",
              "    }\n",
              "\n",
              "    .dataframe tbody tr th {\n",
              "        vertical-align: top;\n",
              "    }\n",
              "\n",
              "    .dataframe thead th {\n",
              "        text-align: right;\n",
              "    }\n",
              "</style>\n",
              "<table border=\"1\" class=\"dataframe\">\n",
              "  <thead>\n",
              "    <tr style=\"text-align: right;\">\n",
              "      <th></th>\n",
              "      <th>YearsExperience</th>\n",
              "      <th>Age</th>\n",
              "      <th>Salary</th>\n",
              "    </tr>\n",
              "  </thead>\n",
              "  <tbody>\n",
              "    <tr>\n",
              "      <th>0</th>\n",
              "      <td>1.1</td>\n",
              "      <td>21.0</td>\n",
              "      <td>39343</td>\n",
              "    </tr>\n",
              "    <tr>\n",
              "      <th>1</th>\n",
              "      <td>1.3</td>\n",
              "      <td>21.5</td>\n",
              "      <td>46205</td>\n",
              "    </tr>\n",
              "    <tr>\n",
              "      <th>2</th>\n",
              "      <td>1.5</td>\n",
              "      <td>21.7</td>\n",
              "      <td>37731</td>\n",
              "    </tr>\n",
              "    <tr>\n",
              "      <th>3</th>\n",
              "      <td>2.0</td>\n",
              "      <td>22.0</td>\n",
              "      <td>43525</td>\n",
              "    </tr>\n",
              "    <tr>\n",
              "      <th>4</th>\n",
              "      <td>2.2</td>\n",
              "      <td>22.2</td>\n",
              "      <td>39891</td>\n",
              "    </tr>\n",
              "  </tbody>\n",
              "</table>\n",
              "</div>\n",
              "      <button class=\"colab-df-convert\" onclick=\"convertToInteractive('df-f51a12eb-8fe0-48d2-aac2-19736a5efe95')\"\n",
              "              title=\"Convert this dataframe to an interactive table.\"\n",
              "              style=\"display:none;\">\n",
              "        \n",
              "  <svg xmlns=\"http://www.w3.org/2000/svg\" height=\"24px\"viewBox=\"0 0 24 24\"\n",
              "       width=\"24px\">\n",
              "    <path d=\"M0 0h24v24H0V0z\" fill=\"none\"/>\n",
              "    <path d=\"M18.56 5.44l.94 2.06.94-2.06 2.06-.94-2.06-.94-.94-2.06-.94 2.06-2.06.94zm-11 1L8.5 8.5l.94-2.06 2.06-.94-2.06-.94L8.5 2.5l-.94 2.06-2.06.94zm10 10l.94 2.06.94-2.06 2.06-.94-2.06-.94-.94-2.06-.94 2.06-2.06.94z\"/><path d=\"M17.41 7.96l-1.37-1.37c-.4-.4-.92-.59-1.43-.59-.52 0-1.04.2-1.43.59L10.3 9.45l-7.72 7.72c-.78.78-.78 2.05 0 2.83L4 21.41c.39.39.9.59 1.41.59.51 0 1.02-.2 1.41-.59l7.78-7.78 2.81-2.81c.8-.78.8-2.07 0-2.86zM5.41 20L4 18.59l7.72-7.72 1.47 1.35L5.41 20z\"/>\n",
              "  </svg>\n",
              "      </button>\n",
              "      \n",
              "  <style>\n",
              "    .colab-df-container {\n",
              "      display:flex;\n",
              "      flex-wrap:wrap;\n",
              "      gap: 12px;\n",
              "    }\n",
              "\n",
              "    .colab-df-convert {\n",
              "      background-color: #E8F0FE;\n",
              "      border: none;\n",
              "      border-radius: 50%;\n",
              "      cursor: pointer;\n",
              "      display: none;\n",
              "      fill: #1967D2;\n",
              "      height: 32px;\n",
              "      padding: 0 0 0 0;\n",
              "      width: 32px;\n",
              "    }\n",
              "\n",
              "    .colab-df-convert:hover {\n",
              "      background-color: #E2EBFA;\n",
              "      box-shadow: 0px 1px 2px rgba(60, 64, 67, 0.3), 0px 1px 3px 1px rgba(60, 64, 67, 0.15);\n",
              "      fill: #174EA6;\n",
              "    }\n",
              "\n",
              "    [theme=dark] .colab-df-convert {\n",
              "      background-color: #3B4455;\n",
              "      fill: #D2E3FC;\n",
              "    }\n",
              "\n",
              "    [theme=dark] .colab-df-convert:hover {\n",
              "      background-color: #434B5C;\n",
              "      box-shadow: 0px 1px 3px 1px rgba(0, 0, 0, 0.15);\n",
              "      filter: drop-shadow(0px 1px 2px rgba(0, 0, 0, 0.3));\n",
              "      fill: #FFFFFF;\n",
              "    }\n",
              "  </style>\n",
              "\n",
              "      <script>\n",
              "        const buttonEl =\n",
              "          document.querySelector('#df-f51a12eb-8fe0-48d2-aac2-19736a5efe95 button.colab-df-convert');\n",
              "        buttonEl.style.display =\n",
              "          google.colab.kernel.accessAllowed ? 'block' : 'none';\n",
              "\n",
              "        async function convertToInteractive(key) {\n",
              "          const element = document.querySelector('#df-f51a12eb-8fe0-48d2-aac2-19736a5efe95');\n",
              "          const dataTable =\n",
              "            await google.colab.kernel.invokeFunction('convertToInteractive',\n",
              "                                                     [key], {});\n",
              "          if (!dataTable) return;\n",
              "\n",
              "          const docLinkHtml = 'Like what you see? Visit the ' +\n",
              "            '<a target=\"_blank\" href=https://colab.research.google.com/notebooks/data_table.ipynb>data table notebook</a>'\n",
              "            + ' to learn more about interactive tables.';\n",
              "          element.innerHTML = '';\n",
              "          dataTable['output_type'] = 'display_data';\n",
              "          await google.colab.output.renderOutput(dataTable, element);\n",
              "          const docLink = document.createElement('div');\n",
              "          docLink.innerHTML = docLinkHtml;\n",
              "          element.appendChild(docLink);\n",
              "        }\n",
              "      </script>\n",
              "    </div>\n",
              "  </div>\n",
              "  "
            ]
          },
          "metadata": {},
          "execution_count": 25
        }
      ]
    },
    {
      "cell_type": "code",
      "source": [
        "_,p_value = stats.shapiro(dados['Age'])\n",
        "p_value"
      ],
      "metadata": {
        "id": "zPYl2zDdEF6U",
        "colab": {
          "base_uri": "https://localhost:8080/"
        },
        "outputId": "1122bcfd-f27f-43be-ae71-4a53a91e3116"
      },
      "execution_count": null,
      "outputs": [
        {
          "output_type": "execute_result",
          "data": {
            "text/plain": [
              "0.005003355909138918"
            ]
          },
          "metadata": {},
          "execution_count": 26
        }
      ]
    },
    {
      "cell_type": "code",
      "source": [
        "if(p_value<=0.05):\n",
        "  print(\"Curva Não Normal\")\n",
        "else:\n",
        "  print('Curva Normal')"
      ],
      "metadata": {
        "colab": {
          "base_uri": "https://localhost:8080/"
        },
        "id": "9l1GeSU6FqoS",
        "outputId": "3aca07e9-127a-47e7-ed67-4b3bf41ccb69"
      },
      "execution_count": null,
      "outputs": [
        {
          "output_type": "stream",
          "name": "stdout",
          "text": [
            "Curva Não Normal\n"
          ]
        }
      ]
    },
    {
      "cell_type": "markdown",
      "source": [
        "O resultado `statistic` é a estatística do quão próximo o valor pode estar de uma distibuição normal, mas não é ele que analisamos. Para sabermos se os dados estão normalmente distribuídos analisamos o `pvalue` retornado pelo `stats.shapiro()`"
      ],
      "metadata": {
        "id": "k1PIf9WtoSh7"
      }
    },
    {
      "cell_type": "code",
      "source": [],
      "metadata": {
        "id": "2PxNj1gzEPSP"
      },
      "execution_count": null,
      "outputs": []
    },
    {
      "cell_type": "code",
      "source": [],
      "metadata": {
        "id": "m2el6OIEETBu"
      },
      "execution_count": null,
      "outputs": []
    },
    {
      "cell_type": "markdown",
      "source": [
        "Como o valor de p (ou *p value*) é menor ou igual a 0,05, logo os dados não estão normalmente distribuídos e não podemos fazer análises usando os conceitos dessa distribuição de dados."
      ],
      "metadata": {
        "id": "rVxD8xR9ENCd"
      }
    },
    {
      "cell_type": "markdown",
      "source": [
        "# Exercício"
      ],
      "metadata": {
        "id": "ovFmTY8AZqms"
      }
    },
    {
      "cell_type": "markdown",
      "source": [
        "## Recebendo os dados do exercício:"
      ],
      "metadata": {
        "id": "R7qm04gyp6la"
      }
    },
    {
      "cell_type": "code",
      "source": [
        "# Recebendo os dados:\n",
        "from google_drive_downloader import GoogleDriveDownloader as gdd\n",
        "\n",
        "# Criando uma variável com o id do Arquivo no Google Drive\n",
        "data_google_id = '1_7GFp3cYns88mQRmeicU3J29j1vvbVcy'\n",
        "\n",
        "## Fazendo o download do arquivo no Google Drive\n",
        "gdd.download_file_from_google_drive(file_id=data_google_id, # file_id deve receber o id do seu arquivo no Google Drive\n",
        "                                    dest_path = './dados_exercicio.csv', # Faz o download dos dados e salva o mesmo num arquivo nomeado dados.csv\n",
        "                                    showsize = True)\n",
        "# Carregando o arquivo numa nova variavel:\n",
        "dados = pd.read_csv(\"dados_exercicio.csv\", sep = ',')"
      ],
      "metadata": {
        "id": "huJDXqMuZs3L",
        "colab": {
          "base_uri": "https://localhost:8080/"
        },
        "outputId": "583b3e4f-3c72-4691-ff03-d481a2aa4035"
      },
      "execution_count": null,
      "outputs": [
        {
          "output_type": "stream",
          "name": "stdout",
          "text": [
            "Downloading 1_7GFp3cYns88mQRmeicU3J29j1vvbVcy into ./dados_exercicio.csv... \n",
            "0.0 B Done.\n"
          ]
        }
      ]
    },
    {
      "cell_type": "code",
      "source": [
        "dados.head()"
      ],
      "metadata": {
        "id": "HJu1ATLqruwk",
        "colab": {
          "base_uri": "https://localhost:8080/",
          "height": 206
        },
        "outputId": "497c2388-ff43-4381-8313-f3e20e91c7f0"
      },
      "execution_count": null,
      "outputs": [
        {
          "output_type": "execute_result",
          "data": {
            "text/plain": [
              "   Id  SepalLengthCm  SepalWidthCm  PetalLengthCm  PetalWidthCm      Species\n",
              "0   1            5.1           3.5            1.4           0.2  Iris-setosa\n",
              "1   2            4.9           3.0            1.4           0.2  Iris-setosa\n",
              "2   3            4.7           3.2            1.3           0.2  Iris-setosa\n",
              "3   4            4.6           3.1            1.5           0.2  Iris-setosa\n",
              "4   5            5.0           3.6            1.4           0.2  Iris-setosa"
            ],
            "text/html": [
              "\n",
              "  <div id=\"df-80fab3e0-7e4f-4334-a9d4-fec60c9c2b03\">\n",
              "    <div class=\"colab-df-container\">\n",
              "      <div>\n",
              "<style scoped>\n",
              "    .dataframe tbody tr th:only-of-type {\n",
              "        vertical-align: middle;\n",
              "    }\n",
              "\n",
              "    .dataframe tbody tr th {\n",
              "        vertical-align: top;\n",
              "    }\n",
              "\n",
              "    .dataframe thead th {\n",
              "        text-align: right;\n",
              "    }\n",
              "</style>\n",
              "<table border=\"1\" class=\"dataframe\">\n",
              "  <thead>\n",
              "    <tr style=\"text-align: right;\">\n",
              "      <th></th>\n",
              "      <th>Id</th>\n",
              "      <th>SepalLengthCm</th>\n",
              "      <th>SepalWidthCm</th>\n",
              "      <th>PetalLengthCm</th>\n",
              "      <th>PetalWidthCm</th>\n",
              "      <th>Species</th>\n",
              "    </tr>\n",
              "  </thead>\n",
              "  <tbody>\n",
              "    <tr>\n",
              "      <th>0</th>\n",
              "      <td>1</td>\n",
              "      <td>5.1</td>\n",
              "      <td>3.5</td>\n",
              "      <td>1.4</td>\n",
              "      <td>0.2</td>\n",
              "      <td>Iris-setosa</td>\n",
              "    </tr>\n",
              "    <tr>\n",
              "      <th>1</th>\n",
              "      <td>2</td>\n",
              "      <td>4.9</td>\n",
              "      <td>3.0</td>\n",
              "      <td>1.4</td>\n",
              "      <td>0.2</td>\n",
              "      <td>Iris-setosa</td>\n",
              "    </tr>\n",
              "    <tr>\n",
              "      <th>2</th>\n",
              "      <td>3</td>\n",
              "      <td>4.7</td>\n",
              "      <td>3.2</td>\n",
              "      <td>1.3</td>\n",
              "      <td>0.2</td>\n",
              "      <td>Iris-setosa</td>\n",
              "    </tr>\n",
              "    <tr>\n",
              "      <th>3</th>\n",
              "      <td>4</td>\n",
              "      <td>4.6</td>\n",
              "      <td>3.1</td>\n",
              "      <td>1.5</td>\n",
              "      <td>0.2</td>\n",
              "      <td>Iris-setosa</td>\n",
              "    </tr>\n",
              "    <tr>\n",
              "      <th>4</th>\n",
              "      <td>5</td>\n",
              "      <td>5.0</td>\n",
              "      <td>3.6</td>\n",
              "      <td>1.4</td>\n",
              "      <td>0.2</td>\n",
              "      <td>Iris-setosa</td>\n",
              "    </tr>\n",
              "  </tbody>\n",
              "</table>\n",
              "</div>\n",
              "      <button class=\"colab-df-convert\" onclick=\"convertToInteractive('df-80fab3e0-7e4f-4334-a9d4-fec60c9c2b03')\"\n",
              "              title=\"Convert this dataframe to an interactive table.\"\n",
              "              style=\"display:none;\">\n",
              "        \n",
              "  <svg xmlns=\"http://www.w3.org/2000/svg\" height=\"24px\"viewBox=\"0 0 24 24\"\n",
              "       width=\"24px\">\n",
              "    <path d=\"M0 0h24v24H0V0z\" fill=\"none\"/>\n",
              "    <path d=\"M18.56 5.44l.94 2.06.94-2.06 2.06-.94-2.06-.94-.94-2.06-.94 2.06-2.06.94zm-11 1L8.5 8.5l.94-2.06 2.06-.94-2.06-.94L8.5 2.5l-.94 2.06-2.06.94zm10 10l.94 2.06.94-2.06 2.06-.94-2.06-.94-.94-2.06-.94 2.06-2.06.94z\"/><path d=\"M17.41 7.96l-1.37-1.37c-.4-.4-.92-.59-1.43-.59-.52 0-1.04.2-1.43.59L10.3 9.45l-7.72 7.72c-.78.78-.78 2.05 0 2.83L4 21.41c.39.39.9.59 1.41.59.51 0 1.02-.2 1.41-.59l7.78-7.78 2.81-2.81c.8-.78.8-2.07 0-2.86zM5.41 20L4 18.59l7.72-7.72 1.47 1.35L5.41 20z\"/>\n",
              "  </svg>\n",
              "      </button>\n",
              "      \n",
              "  <style>\n",
              "    .colab-df-container {\n",
              "      display:flex;\n",
              "      flex-wrap:wrap;\n",
              "      gap: 12px;\n",
              "    }\n",
              "\n",
              "    .colab-df-convert {\n",
              "      background-color: #E8F0FE;\n",
              "      border: none;\n",
              "      border-radius: 50%;\n",
              "      cursor: pointer;\n",
              "      display: none;\n",
              "      fill: #1967D2;\n",
              "      height: 32px;\n",
              "      padding: 0 0 0 0;\n",
              "      width: 32px;\n",
              "    }\n",
              "\n",
              "    .colab-df-convert:hover {\n",
              "      background-color: #E2EBFA;\n",
              "      box-shadow: 0px 1px 2px rgba(60, 64, 67, 0.3), 0px 1px 3px 1px rgba(60, 64, 67, 0.15);\n",
              "      fill: #174EA6;\n",
              "    }\n",
              "\n",
              "    [theme=dark] .colab-df-convert {\n",
              "      background-color: #3B4455;\n",
              "      fill: #D2E3FC;\n",
              "    }\n",
              "\n",
              "    [theme=dark] .colab-df-convert:hover {\n",
              "      background-color: #434B5C;\n",
              "      box-shadow: 0px 1px 3px 1px rgba(0, 0, 0, 0.15);\n",
              "      filter: drop-shadow(0px 1px 2px rgba(0, 0, 0, 0.3));\n",
              "      fill: #FFFFFF;\n",
              "    }\n",
              "  </style>\n",
              "\n",
              "      <script>\n",
              "        const buttonEl =\n",
              "          document.querySelector('#df-80fab3e0-7e4f-4334-a9d4-fec60c9c2b03 button.colab-df-convert');\n",
              "        buttonEl.style.display =\n",
              "          google.colab.kernel.accessAllowed ? 'block' : 'none';\n",
              "\n",
              "        async function convertToInteractive(key) {\n",
              "          const element = document.querySelector('#df-80fab3e0-7e4f-4334-a9d4-fec60c9c2b03');\n",
              "          const dataTable =\n",
              "            await google.colab.kernel.invokeFunction('convertToInteractive',\n",
              "                                                     [key], {});\n",
              "          if (!dataTable) return;\n",
              "\n",
              "          const docLinkHtml = 'Like what you see? Visit the ' +\n",
              "            '<a target=\"_blank\" href=https://colab.research.google.com/notebooks/data_table.ipynb>data table notebook</a>'\n",
              "            + ' to learn more about interactive tables.';\n",
              "          element.innerHTML = '';\n",
              "          dataTable['output_type'] = 'display_data';\n",
              "          await google.colab.output.renderOutput(dataTable, element);\n",
              "          const docLink = document.createElement('div');\n",
              "          docLink.innerHTML = docLinkHtml;\n",
              "          element.appendChild(docLink);\n",
              "        }\n",
              "      </script>\n",
              "    </div>\n",
              "  </div>\n",
              "  "
            ]
          },
          "metadata": {},
          "execution_count": 29
        }
      ]
    },
    {
      "cell_type": "markdown",
      "metadata": {
        "id": "7afa969c"
      },
      "source": [
        "----------------------\n",
        "**Botânica: Íris Dataset**\n",
        "\n",
        "Esse dataset contém medidas da largura e comprimento da pétala e da sépala de **150 amostras** de flores, assim como a espécie de cada uma (*versicolor*, *setosa*, *virginica*). Mais informações: https://scikit-learn.org/stable/auto_examples/datasets/plot_iris_dataset.html.\n",
        "\n",
        "<img src=\"https://s3.amazonaws.com/assets.datacamp.com/blog_assets/Machine+Learning+R/iris-machinelearning.png\" alt=\"dieta\" width=\"600px\">"
      ]
    },
    {
      "cell_type": "markdown",
      "source": [
        "## Análise Exploratória dos dados com Teste de Hipoteses:"
      ],
      "metadata": {
        "id": "pXFmY2wdFm41"
      }
    },
    {
      "cell_type": "markdown",
      "source": [
        "**Verificar na preparação dos dados:**\n",
        "\n",
        "*   Quantas linhas e colunas temos nos nossos dados\n",
        "*   Tipos de dados de cada coluna\n",
        "*   Checar por valores nulos\n",
        "*   Remover a coluna Id do conjunto de dados\n",
        "\n",
        "**Análise exploratória:**\n",
        "*   Fazer gráficos de dispersão dos dados (todos os pares possíveis) destacando com cores diferentes cada uma das espécies das plantas\n",
        "*   Fazer os histogramas das 4 medidas das plantas\n",
        "*   Obter a média e o desvio padrão de cada uma das colunas dos dados\n",
        "*   Checar com o boxplot se temos a presença de pontos discrepantes (*outliers*)\n",
        "\n",
        "\n",
        "**Teste de Hipóteses:**\n",
        "Esse conjunto de dados trata-se de uma amostra de 150 plantas. Logo qualquer hipótese que tivermos sobre ele é necessário aplicar um teste de hipóteses para validá-lo. Vamos analisar os seguintes cenários:\n",
        "*   Fazer o teste para verificar se a média do \"Petal Length Cm\" é igual a 3,06. Hipotese nula e alternativa:\n",
        "  * $H_{0}$: Em média o \"Petal Length Cm\" é igual a 3.76\n",
        "  * $H_{a}$: Média é diferente de 3,76\n",
        "\n",
        "(Caso bilateral - ver slides para checar como fazer esse teste de hipóteses)\n",
        "*   Fazer o teste para verificar se 75% das plantas tem o \"Petal Length Cm\" menor que 5,1 cm (Teste de proporção). Hipotese nula e alternativa:\n",
        "   * $H_{0}$: 75% das plantas tem o \"Petal Length Cm\" menor que 5,1 cm (Teste de proporção)\n",
        "   * $H_{a}$: Menos de 75% das plantas tem o \"Petal Length Cm\" menor que 5,1 cm (Teste de proporção)\n",
        "\n",
        "*   Testar com o teste de Shapiro-Wilk se os dados de cada uma das 4 medidas das plantas estão normalmente distribuídas.\n",
        "\n",
        "\n"
      ],
      "metadata": {
        "id": "Ao-GIvZoq_lx"
      }
    },
    {
      "cell_type": "markdown",
      "source": [
        "**Verificar na preparação dos dados:**"
      ],
      "metadata": {
        "id": "rWQOGsTfIXq1"
      }
    },
    {
      "cell_type": "code",
      "source": [
        "dados.shape"
      ],
      "metadata": {
        "id": "xs1y5HtQB119",
        "colab": {
          "base_uri": "https://localhost:8080/"
        },
        "outputId": "8f235c0d-1c9e-4f74-a5da-c982faadc0a6"
      },
      "execution_count": null,
      "outputs": [
        {
          "output_type": "execute_result",
          "data": {
            "text/plain": [
              "(150, 6)"
            ]
          },
          "metadata": {},
          "execution_count": 30
        }
      ]
    },
    {
      "cell_type": "markdown",
      "source": [
        "150 linhas e 6 colunas"
      ],
      "metadata": {
        "id": "sAvNrzdwIf31"
      }
    },
    {
      "cell_type": "code",
      "source": [
        "dados.info()"
      ],
      "metadata": {
        "colab": {
          "base_uri": "https://localhost:8080/"
        },
        "id": "XYqgJOm2Ikpk",
        "outputId": "f3f63768-f4c7-49d4-fd59-90f0b1ff7ee9"
      },
      "execution_count": null,
      "outputs": [
        {
          "output_type": "stream",
          "name": "stdout",
          "text": [
            "<class 'pandas.core.frame.DataFrame'>\n",
            "RangeIndex: 150 entries, 0 to 149\n",
            "Data columns (total 6 columns):\n",
            " #   Column         Non-Null Count  Dtype  \n",
            "---  ------         --------------  -----  \n",
            " 0   Id             150 non-null    int64  \n",
            " 1   SepalLengthCm  150 non-null    float64\n",
            " 2   SepalWidthCm   150 non-null    float64\n",
            " 3   PetalLengthCm  150 non-null    float64\n",
            " 4   PetalWidthCm   150 non-null    float64\n",
            " 5   Species        150 non-null    object \n",
            "dtypes: float64(4), int64(1), object(1)\n",
            "memory usage: 7.2+ KB\n"
          ]
        }
      ]
    },
    {
      "cell_type": "code",
      "source": [
        "dados.isnull().sum()"
      ],
      "metadata": {
        "colab": {
          "base_uri": "https://localhost:8080/"
        },
        "id": "wJ3Kz1f6Iokk",
        "outputId": "009c9ad4-8519-4048-fc38-68970660d941"
      },
      "execution_count": null,
      "outputs": [
        {
          "output_type": "execute_result",
          "data": {
            "text/plain": [
              "Id               0\n",
              "SepalLengthCm    0\n",
              "SepalWidthCm     0\n",
              "PetalLengthCm    0\n",
              "PetalWidthCm     0\n",
              "Species          0\n",
              "dtype: int64"
            ]
          },
          "metadata": {},
          "execution_count": 32
        }
      ]
    },
    {
      "cell_type": "code",
      "source": [
        "dados.drop(columns=['Id'], axis=1, inplace = True)"
      ],
      "metadata": {
        "id": "RKSylgFEIvC0"
      },
      "execution_count": null,
      "outputs": []
    },
    {
      "cell_type": "code",
      "source": [
        "dados.head()"
      ],
      "metadata": {
        "colab": {
          "base_uri": "https://localhost:8080/",
          "height": 206
        },
        "id": "0uHZqyC1JhF1",
        "outputId": "4326c62f-13ff-465d-d003-2f3cf249d198"
      },
      "execution_count": null,
      "outputs": [
        {
          "output_type": "execute_result",
          "data": {
            "text/plain": [
              "   SepalLengthCm  SepalWidthCm  PetalLengthCm  PetalWidthCm      Species\n",
              "0            5.1           3.5            1.4           0.2  Iris-setosa\n",
              "1            4.9           3.0            1.4           0.2  Iris-setosa\n",
              "2            4.7           3.2            1.3           0.2  Iris-setosa\n",
              "3            4.6           3.1            1.5           0.2  Iris-setosa\n",
              "4            5.0           3.6            1.4           0.2  Iris-setosa"
            ],
            "text/html": [
              "\n",
              "  <div id=\"df-5c577b9a-e047-43c3-9b19-6e25f4c1bc1f\">\n",
              "    <div class=\"colab-df-container\">\n",
              "      <div>\n",
              "<style scoped>\n",
              "    .dataframe tbody tr th:only-of-type {\n",
              "        vertical-align: middle;\n",
              "    }\n",
              "\n",
              "    .dataframe tbody tr th {\n",
              "        vertical-align: top;\n",
              "    }\n",
              "\n",
              "    .dataframe thead th {\n",
              "        text-align: right;\n",
              "    }\n",
              "</style>\n",
              "<table border=\"1\" class=\"dataframe\">\n",
              "  <thead>\n",
              "    <tr style=\"text-align: right;\">\n",
              "      <th></th>\n",
              "      <th>SepalLengthCm</th>\n",
              "      <th>SepalWidthCm</th>\n",
              "      <th>PetalLengthCm</th>\n",
              "      <th>PetalWidthCm</th>\n",
              "      <th>Species</th>\n",
              "    </tr>\n",
              "  </thead>\n",
              "  <tbody>\n",
              "    <tr>\n",
              "      <th>0</th>\n",
              "      <td>5.1</td>\n",
              "      <td>3.5</td>\n",
              "      <td>1.4</td>\n",
              "      <td>0.2</td>\n",
              "      <td>Iris-setosa</td>\n",
              "    </tr>\n",
              "    <tr>\n",
              "      <th>1</th>\n",
              "      <td>4.9</td>\n",
              "      <td>3.0</td>\n",
              "      <td>1.4</td>\n",
              "      <td>0.2</td>\n",
              "      <td>Iris-setosa</td>\n",
              "    </tr>\n",
              "    <tr>\n",
              "      <th>2</th>\n",
              "      <td>4.7</td>\n",
              "      <td>3.2</td>\n",
              "      <td>1.3</td>\n",
              "      <td>0.2</td>\n",
              "      <td>Iris-setosa</td>\n",
              "    </tr>\n",
              "    <tr>\n",
              "      <th>3</th>\n",
              "      <td>4.6</td>\n",
              "      <td>3.1</td>\n",
              "      <td>1.5</td>\n",
              "      <td>0.2</td>\n",
              "      <td>Iris-setosa</td>\n",
              "    </tr>\n",
              "    <tr>\n",
              "      <th>4</th>\n",
              "      <td>5.0</td>\n",
              "      <td>3.6</td>\n",
              "      <td>1.4</td>\n",
              "      <td>0.2</td>\n",
              "      <td>Iris-setosa</td>\n",
              "    </tr>\n",
              "  </tbody>\n",
              "</table>\n",
              "</div>\n",
              "      <button class=\"colab-df-convert\" onclick=\"convertToInteractive('df-5c577b9a-e047-43c3-9b19-6e25f4c1bc1f')\"\n",
              "              title=\"Convert this dataframe to an interactive table.\"\n",
              "              style=\"display:none;\">\n",
              "        \n",
              "  <svg xmlns=\"http://www.w3.org/2000/svg\" height=\"24px\"viewBox=\"0 0 24 24\"\n",
              "       width=\"24px\">\n",
              "    <path d=\"M0 0h24v24H0V0z\" fill=\"none\"/>\n",
              "    <path d=\"M18.56 5.44l.94 2.06.94-2.06 2.06-.94-2.06-.94-.94-2.06-.94 2.06-2.06.94zm-11 1L8.5 8.5l.94-2.06 2.06-.94-2.06-.94L8.5 2.5l-.94 2.06-2.06.94zm10 10l.94 2.06.94-2.06 2.06-.94-2.06-.94-.94-2.06-.94 2.06-2.06.94z\"/><path d=\"M17.41 7.96l-1.37-1.37c-.4-.4-.92-.59-1.43-.59-.52 0-1.04.2-1.43.59L10.3 9.45l-7.72 7.72c-.78.78-.78 2.05 0 2.83L4 21.41c.39.39.9.59 1.41.59.51 0 1.02-.2 1.41-.59l7.78-7.78 2.81-2.81c.8-.78.8-2.07 0-2.86zM5.41 20L4 18.59l7.72-7.72 1.47 1.35L5.41 20z\"/>\n",
              "  </svg>\n",
              "      </button>\n",
              "      \n",
              "  <style>\n",
              "    .colab-df-container {\n",
              "      display:flex;\n",
              "      flex-wrap:wrap;\n",
              "      gap: 12px;\n",
              "    }\n",
              "\n",
              "    .colab-df-convert {\n",
              "      background-color: #E8F0FE;\n",
              "      border: none;\n",
              "      border-radius: 50%;\n",
              "      cursor: pointer;\n",
              "      display: none;\n",
              "      fill: #1967D2;\n",
              "      height: 32px;\n",
              "      padding: 0 0 0 0;\n",
              "      width: 32px;\n",
              "    }\n",
              "\n",
              "    .colab-df-convert:hover {\n",
              "      background-color: #E2EBFA;\n",
              "      box-shadow: 0px 1px 2px rgba(60, 64, 67, 0.3), 0px 1px 3px 1px rgba(60, 64, 67, 0.15);\n",
              "      fill: #174EA6;\n",
              "    }\n",
              "\n",
              "    [theme=dark] .colab-df-convert {\n",
              "      background-color: #3B4455;\n",
              "      fill: #D2E3FC;\n",
              "    }\n",
              "\n",
              "    [theme=dark] .colab-df-convert:hover {\n",
              "      background-color: #434B5C;\n",
              "      box-shadow: 0px 1px 3px 1px rgba(0, 0, 0, 0.15);\n",
              "      filter: drop-shadow(0px 1px 2px rgba(0, 0, 0, 0.3));\n",
              "      fill: #FFFFFF;\n",
              "    }\n",
              "  </style>\n",
              "\n",
              "      <script>\n",
              "        const buttonEl =\n",
              "          document.querySelector('#df-5c577b9a-e047-43c3-9b19-6e25f4c1bc1f button.colab-df-convert');\n",
              "        buttonEl.style.display =\n",
              "          google.colab.kernel.accessAllowed ? 'block' : 'none';\n",
              "\n",
              "        async function convertToInteractive(key) {\n",
              "          const element = document.querySelector('#df-5c577b9a-e047-43c3-9b19-6e25f4c1bc1f');\n",
              "          const dataTable =\n",
              "            await google.colab.kernel.invokeFunction('convertToInteractive',\n",
              "                                                     [key], {});\n",
              "          if (!dataTable) return;\n",
              "\n",
              "          const docLinkHtml = 'Like what you see? Visit the ' +\n",
              "            '<a target=\"_blank\" href=https://colab.research.google.com/notebooks/data_table.ipynb>data table notebook</a>'\n",
              "            + ' to learn more about interactive tables.';\n",
              "          element.innerHTML = '';\n",
              "          dataTable['output_type'] = 'display_data';\n",
              "          await google.colab.output.renderOutput(dataTable, element);\n",
              "          const docLink = document.createElement('div');\n",
              "          docLink.innerHTML = docLinkHtml;\n",
              "          element.appendChild(docLink);\n",
              "        }\n",
              "      </script>\n",
              "    </div>\n",
              "  </div>\n",
              "  "
            ]
          },
          "metadata": {},
          "execution_count": 34
        }
      ]
    },
    {
      "cell_type": "markdown",
      "source": [
        "**Análise exploratória:**"
      ],
      "metadata": {
        "id": "u4QX4ImsJqby"
      }
    },
    {
      "cell_type": "code",
      "source": [
        "fig, axes = plt.subplots(3, 2, figsize = (10,10))\n",
        "sns.scatterplot(data=dados, x=\"SepalLengthCm\", y=\"SepalWidthCm\", hue=\"Species\",ax=axes[0,0])\n",
        "sns.scatterplot(data=dados, x=\"SepalLengthCm\", y=\"PetalWidthCm\", hue=\"Species\",ax=axes[0,1])\n",
        "sns.scatterplot(data=dados, x=\"PetalLengthCm\", y=\"PetalWidthCm\", hue=\"Species\",ax=axes[1,0])\n",
        "sns.scatterplot(data=dados, x=\"SepalLengthCm\", y=\"SepalWidthCm\", hue=\"Species\",ax=axes[1,1])\n",
        "sns.scatterplot(data=dados, x=\"PetalLengthCm\", y=\"SepalWidthCm\", hue=\"Species\",ax=axes[2,0])\n",
        "sns.scatterplot(data=dados, x=\"PetalWidthCm\", y=\"SepalWidthCm\", hue=\"Species\",ax=axes[2,1])"
      ],
      "metadata": {
        "colab": {
          "base_uri": "https://localhost:8080/",
          "height": 871
        },
        "id": "mqNQS5GvKPFh",
        "outputId": "84e2b65c-3546-4631-afd8-e95cfe1fdb72"
      },
      "execution_count": null,
      "outputs": [
        {
          "output_type": "execute_result",
          "data": {
            "text/plain": [
              "<Axes: xlabel='PetalWidthCm', ylabel='SepalWidthCm'>"
            ]
          },
          "metadata": {},
          "execution_count": 48
        },
        {
          "output_type": "display_data",
          "data": {
            "text/plain": [
              "<Figure size 1000x1000 with 6 Axes>"
            ],
            "image/png": "[encoded data removed]"
          },
          "metadata": {}
        }
      ]
    },
    {
      "cell_type": "code",
      "source": [
        "fig, axes = plt.subplots(2, 2, figsize = (10,10))\n",
        "sns.histplot(dados['SepalLengthCm'], kde=False, bins=10, color='blue',ax=axes[0,0]).set(title=\"SepalLengthCm\")\n",
        "sns.histplot(dados['SepalWidthCm'], kde=False, bins=10, color='red',ax=axes[0,1]).set(title=\"SepalWidthCm\")\n",
        "sns.histplot(dados['PetalLengthCm'], kde=False, bins=10, color='green',ax=axes[1,0]).set(title=\"PetalLengthCm\")\n",
        "sns.histplot(dados['PetalWidthCm'], kde=False, bins=10, color='orange',ax=axes[1,1]).set(title=\"PetalWidthCm\")"
      ],
      "metadata": {
        "colab": {
          "base_uri": "https://localhost:8080/",
          "height": 889
        },
        "id": "M_2n3r-WXr3o",
        "outputId": "fa7c182d-1d53-4fb7-b0e4-7d2b4c7d91a0"
      },
      "execution_count": null,
      "outputs": [
        {
          "output_type": "execute_result",
          "data": {
            "text/plain": [
              "[Text(0.5, 1.0, 'PetalWidthCm')]"
            ]
          },
          "metadata": {},
          "execution_count": 40
        },
        {
          "output_type": "display_data",
          "data": {
            "text/plain": [
              "<Figure size 1000x1000 with 4 Axes>"
            ],
            "image/png": "[encoded data removed]"
          },
          "metadata": {}
        }
      ]
    },
    {
      "cell_type": "code",
      "source": [
        "media = dados['SepalLengthCm'].mean()\n",
        "desv_pad = dados['SepalLengthCm'].std()\n",
        "print(media, desv_pad)"
      ],
      "metadata": {
        "colab": {
          "base_uri": "https://localhost:8080/"
        },
        "id": "PDh0-pa3aUSD",
        "outputId": "cf1cdf2f-5056-4f5a-972a-b0cf3e4f3a10"
      },
      "execution_count": null,
      "outputs": [
        {
          "output_type": "stream",
          "name": "stdout",
          "text": [
            "5.843333333333334 0.828066127977863\n"
          ]
        }
      ]
    },
    {
      "cell_type": "code",
      "source": [
        "dados['Species'].unique()"
      ],
      "metadata": {
        "colab": {
          "base_uri": "https://localhost:8080/"
        },
        "id": "ZAxaJemJcEGZ",
        "outputId": "c3eb9b3c-01e6-4c6b-a7f8-67795cb19ab4"
      },
      "execution_count": null,
      "outputs": [
        {
          "output_type": "execute_result",
          "data": {
            "text/plain": [
              "array(['Iris-setosa', 'Iris-versicolor', 'Iris-virginica'], dtype=object)"
            ]
          },
          "metadata": {},
          "execution_count": 38
        }
      ]
    },
    {
      "cell_type": "code",
      "source": [
        "fig, axes = plt.subplots(2, 2, figsize = (10,10\n",
        "                                          ))\n",
        "sns.boxplot(data=dados,x='SepalLengthCm',ax=axes[0,0])\n",
        "sns.boxplot(data=dados,x='SepalWidthCm',ax=axes[0,1])\n",
        "sns.boxplot(data=dados,x='PetalLengthCm',ax=axes[1,0])\n",
        "sns.boxplot(data=dados,x='PetalWidthCm',ax=axes[1,1])"
      ],
      "metadata": {
        "colab": {
          "base_uri": "https://localhost:8080/",
          "height": 867
        },
        "id": "1Ghmehqdbm8I",
        "outputId": "89daf5b7-115d-4706-90e9-063466e2bed8"
      },
      "execution_count": null,
      "outputs": [
        {
          "output_type": "execute_result",
          "data": {
            "text/plain": [
              "<Axes: xlabel='PetalWidthCm'>"
            ]
          },
          "metadata": {},
          "execution_count": 42
        },
        {
          "output_type": "display_data",
          "data": {
            "text/plain": [
              "<Figure size 1000x1000 with 4 Axes>"
            ],
            "image/png": "[encoded data removed]"
          },
          "metadata": {}
        }
      ]
    },
    {
      "cell_type": "markdown",
      "source": [
        "Existem pontos discrepantes referente a coluna SepalWidthCm"
      ],
      "metadata": {
        "id": "CyUr8oMjfL-o"
      }
    },
    {
      "cell_type": "markdown",
      "source": [
        "**Teste de Hipóteses:**\n",
        "Esse conjunto de dados trata-se de uma amostra de 150 plantas. Logo qualquer hipótese que tivermos sobre ele é necessário aplicar um teste de hipóteses para validá-lo. Vamos analisar os seguintes cenários:\n",
        "*   Fazer o teste para verificar se a média do \"Petal Length Cm\" é igual a 3,76. Hipotese nula e alternativa:\n",
        "  * $H_{0}$: Em média o \"Petal Length Cm\" é igual a 3.76\n",
        "  * $H_{a}$: Média é diferente de 3,76\n",
        "\n",
        "\n"
      ],
      "metadata": {
        "id": "BA9XQpzSfzhA"
      }
    },
    {
      "cell_type": "code",
      "source": [
        "n = dados.shape[0]\n",
        "n"
      ],
      "metadata": {
        "colab": {
          "base_uri": "https://localhost:8080/"
        },
        "id": "ukbKL-cjf8Q3",
        "outputId": "5d46bd75-bef6-4e16-d519-2bb48d7cbf79"
      },
      "execution_count": null,
      "outputs": [
        {
          "output_type": "execute_result",
          "data": {
            "text/plain": [
              "150"
            ]
          },
          "metadata": {},
          "execution_count": 100
        }
      ]
    },
    {
      "cell_type": "code",
      "source": [
        "media = dados['PetalLengthCm'].mean()\n",
        "desv_pad = dados['PetalLengthCm'].std()\n",
        "print(media, desv_pad)"
      ],
      "metadata": {
        "colab": {
          "base_uri": "https://localhost:8080/"
        },
        "id": "TnpEl7S4hNV1",
        "outputId": "629d77ad-6b38-4b6d-84bd-baa0a852aa72"
      },
      "execution_count": null,
      "outputs": [
        {
          "output_type": "stream",
          "name": "stdout",
          "text": [
            "3.758666666666666 1.7644204199522626\n"
          ]
        }
      ]
    },
    {
      "cell_type": "code",
      "source": [
        "alpha = 0.05"
      ],
      "metadata": {
        "id": "cNHFRJI-ixPy"
      },
      "execution_count": null,
      "outputs": []
    },
    {
      "cell_type": "code",
      "source": [
        "z = (media-3.76)/((desv_pad)/(n**0.5))\n",
        "z\n",
        "vp = norm.cdf(z,0,1)\n",
        "vp\n",
        "if(vp >= alpha):\n",
        "  print(\"Não rejeito a hipotese numa\")\n",
        "else:\n",
        "  print(\"Rejeita a hipotese nula\")"
      ],
      "metadata": {
        "colab": {
          "base_uri": "https://localhost:8080/"
        },
        "id": "fmPyOJZ0iE0U",
        "outputId": "3c1f72e7-de94-4b10-d0ab-e4252c9e1f73"
      },
      "execution_count": null,
      "outputs": [
        {
          "output_type": "stream",
          "name": "stdout",
          "text": [
            "Não rejeito a hipotese numa\n"
          ]
        }
      ]
    },
    {
      "cell_type": "markdown",
      "source": [
        "(Caso bilateral - ver slides para checar como fazer esse teste de hipóteses)\n",
        "*   Fazer o teste para verificar se 75% das plantas tem o \"Petal Length Cm\" menor que 5,1 cm (Teste de proporção). Hipotese nula e alternativa:\n",
        "   * $H_{0}$: 75% das plantas tem o \"Petal Length Cm\" menor que 5,1 cm (Teste de proporção)\n",
        "   * $H_{a}$: Menos de 75% das plantas tem o \"Petal Length Cm\" menor que 5,1 cm (Teste de proporção)\n",
        "\n",
        "*   Testar com o teste de Shapiro-Wilk se os dados de cada uma das 4 medidas das plantas estão normalmente distribuídas."
      ],
      "metadata": {
        "id": "IULRus-Sj6fp"
      }
    },
    {
      "cell_type": "code",
      "source": [
        "mask = dados['PetalLengthCm']<5.1\n",
        "prop = dados[mask].shape[0]/dados.shape[0]\n",
        "prop"
      ],
      "metadata": {
        "colab": {
          "base_uri": "https://localhost:8080/"
        },
        "id": "ojIFOCuVks32",
        "outputId": "1c71c40c-4b8e-40e4-da92-0468afc3810f"
      },
      "execution_count": null,
      "outputs": [
        {
          "output_type": "execute_result",
          "data": {
            "text/plain": [
              "0.72"
            ]
          },
          "metadata": {},
          "execution_count": 119
        }
      ]
    },
    {
      "cell_type": "code",
      "source": [
        "media = dados['PetalLengthCm'].mean()\n",
        "desv_pad = dados['PetalLengthCm'].std()\n",
        "print(media, desv_pad)"
      ],
      "metadata": {
        "colab": {
          "base_uri": "https://localhost:8080/"
        },
        "id": "BC5aLb3FkLQf",
        "outputId": "6cd553a9-4b01-4b3a-9aa9-81694ef86097"
      },
      "execution_count": null,
      "outputs": [
        {
          "output_type": "stream",
          "name": "stdout",
          "text": [
            "3.758666666666666 1.7644204199522626\n"
          ]
        }
      ]
    },
    {
      "cell_type": "code",
      "source": [
        "alpha = 0.05"
      ],
      "metadata": {
        "id": "ypLLkYZgkNwO"
      },
      "execution_count": null,
      "outputs": []
    },
    {
      "cell_type": "code",
      "source": [
        "p = (prop-0.75)/(((0.75*(1-0.75))/(n))**0.5)\n",
        "p"
      ],
      "metadata": {
        "colab": {
          "base_uri": "https://localhost:8080/"
        },
        "id": "kFr4Pkhvj8LA",
        "outputId": "2dc895d6-2cde-41a4-e250-850c1bd2b88b"
      },
      "execution_count": null,
      "outputs": [
        {
          "output_type": "execute_result",
          "data": {
            "text/plain": [
              "-0.8485281374238578"
            ]
          },
          "metadata": {},
          "execution_count": 122
        }
      ]
    },
    {
      "cell_type": "code",
      "source": [
        "vp = norm.cdf(p,0,1)\n",
        "vp\n",
        "if(vp >= alpha):\n",
        "  print(\"Não rejeito a hipotese numa\")\n",
        "else:\n",
        "  print(\"Rejeita a hipotese nula\")"
      ],
      "metadata": {
        "colab": {
          "base_uri": "https://localhost:8080/"
        },
        "id": "6WQrVqKwkWgf",
        "outputId": "696cc029-10a1-40a3-d6d0-b59e25d1c292"
      },
      "execution_count": null,
      "outputs": [
        {
          "output_type": "stream",
          "name": "stdout",
          "text": [
            "Não rejeito a hipotese numa\n"
          ]
        }
      ]
    }
  ]
}